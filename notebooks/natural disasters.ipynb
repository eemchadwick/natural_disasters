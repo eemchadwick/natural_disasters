{
 "cells": [
  {
   "cell_type": "code",
   "execution_count": 1,
   "id": "ac5ddb38",
   "metadata": {},
   "outputs": [],
   "source": [
    "import pandas as pd\n",
    "import matplotlib.pyplot as plt\n",
    "import seaborn as sns\n",
    "import numpy as np"
   ]
  },
  {
   "cell_type": "code",
   "execution_count": 2,
   "id": "6b41a2d1",
   "metadata": {},
   "outputs": [
    {
     "name": "stderr",
     "output_type": "stream",
     "text": [
      "C:\\Users\\emily\\AppData\\Local\\Temp\\ipykernel_88308\\1905035074.py:1: DtypeWarning: Columns (7,8,9,10,16,17,20,21,22,26,27,28,29,32,33,34,35,36,37,38,39,40,42,43,44,45,46,52,53,54,55,56,57,58) have mixed types. Specify dtype option on import or set low_memory=False.\n",
      "  survey = pd.read_csv('../data/clean_survey_data.csv')\n"
     ]
    }
   ],
   "source": [
    "survey = pd.read_csv('../data/clean_survey_data.csv')\n"
   ]
  },
  {
   "cell_type": "code",
   "execution_count": 3,
   "id": "05c85ecd",
   "metadata": {},
   "outputs": [],
   "source": [
    "survey = survey[survey['Year']==2021]"
   ]
  },
  {
   "cell_type": "code",
   "execution_count": 4,
   "id": "b0ab01ed",
   "metadata": {},
   "outputs": [
    {
     "name": "stdout",
     "output_type": "stream",
     "text": [
      "<class 'pandas.core.frame.DataFrame'>\n",
      "Index: 125911 entries, 0 to 125910\n",
      "Data columns (total 63 columns):\n",
      " #   Column                  Non-Null Count   Dtype  \n",
      "---  ------                  --------------   -----  \n",
      " 0   WPID_RANDOM             125911 non-null  int64  \n",
      " 1   WP5                     125911 non-null  int64  \n",
      " 2   Country                 125911 non-null  object \n",
      " 3   WGT                     125911 non-null  float64\n",
      " 4   Year                    125911 non-null  int64  \n",
      " 5   GlobalRegion            125911 non-null  int64  \n",
      " 6   country.in.both.waves   125911 non-null  int64  \n",
      " 7   CountryIncomeLevel2021  125911 non-null  object \n",
      " 8   CountryIncomeLevel2019  125911 non-null  object \n",
      " 9   PROJWT_2021             125911 non-null  object \n",
      " 10  PROJWT_2019             125911 non-null  object \n",
      " 11  Age                     125911 non-null  int64  \n",
      " 12  AgeGroups4              125911 non-null  object \n",
      " 13  Gender                  125911 non-null  int64  \n",
      " 14  Education               125911 non-null  int64  \n",
      " 15  IncomeFeelings          125911 non-null  int64  \n",
      " 16  INCOME_5                125911 non-null  object \n",
      " 17  EMP_2010                125911 non-null  object \n",
      " 18  Urbanicity              125911 non-null  int64  \n",
      " 19  HouseholdSize           125911 non-null  int64  \n",
      " 20  ChildrenInHousehold     125911 non-null  object \n",
      " 21  Q1                      125911 non-null  object \n",
      " 22  Q2_1                    125911 non-null  object \n",
      " 23  Q3                      125911 non-null  int64  \n",
      " 24  Q4D                     125911 non-null  int64  \n",
      " 25  Q4F                     125911 non-null  int64  \n",
      " 26  Q5D                     125911 non-null  object \n",
      " 27  Q5F                     125911 non-null  object \n",
      " 28  Q6                      125911 non-null  object \n",
      " 29  Q10                     125911 non-null  object \n",
      " 30  Q11_1                   125911 non-null  object \n",
      " 31  Q11_2                   125911 non-null  object \n",
      " 32  Q10Q11Recode            125911 non-null  object \n",
      " 33  Q13                     125911 non-null  object \n",
      " 34  Q14A                    125911 non-null  object \n",
      " 35  Q14B                    125911 non-null  object \n",
      " 36  Q14C                    125911 non-null  object \n",
      " 37  Q14D                    125911 non-null  object \n",
      " 38  Q14E                    125911 non-null  object \n",
      " 39  Q14F                    125911 non-null  object \n",
      " 40  Q14G                    125911 non-null  object \n",
      " 41  Q15                     125911 non-null  object \n",
      " 42  Q16A                    125911 non-null  object \n",
      " 43  Q16B                    125911 non-null  object \n",
      " 44  Q16C                    125911 non-null  object \n",
      " 45  Q16D                    125911 non-null  object \n",
      " 46  Q17                     125911 non-null  object \n",
      " 47  Q18_1                   125911 non-null  object \n",
      " 48  Q19A                    125911 non-null  object \n",
      " 49  Q19B                    125911 non-null  object \n",
      " 50  Q19C                    125911 non-null  object \n",
      " 51  Q19D                    125911 non-null  object \n",
      " 52  Q20                     125911 non-null  object \n",
      " 53  Q21                     125911 non-null  object \n",
      " 54  Q22A                    125911 non-null  object \n",
      " 55  Q22B                    125911 non-null  object \n",
      " 56  Q22C                    125911 non-null  object \n",
      " 57  Q22D                    125911 non-null  object \n",
      " 58  Q22E                    125911 non-null  object \n",
      " 59  resilience_index        125911 non-null  object \n",
      " 60  Worried.Index           125911 non-null  object \n",
      " 61  Experienced.Index       125911 non-null  object \n",
      " 62  worry_exp_gap           125911 non-null  object \n",
      "dtypes: float64(1), int64(14), object(48)\n",
      "memory usage: 61.5+ MB\n"
     ]
    }
   ],
   "source": [
    "survey.info()"
   ]
  },
  {
   "cell_type": "code",
   "execution_count": 5,
   "id": "4ffe8ad0",
   "metadata": {
    "scrolled": false
   },
   "outputs": [
    {
     "data": {
      "text/html": [
       "<div>\n",
       "<style scoped>\n",
       "    .dataframe tbody tr th:only-of-type {\n",
       "        vertical-align: middle;\n",
       "    }\n",
       "\n",
       "    .dataframe tbody tr th {\n",
       "        vertical-align: top;\n",
       "    }\n",
       "\n",
       "    .dataframe thead th {\n",
       "        text-align: right;\n",
       "    }\n",
       "</style>\n",
       "<table border=\"1\" class=\"dataframe\">\n",
       "  <thead>\n",
       "    <tr style=\"text-align: right;\">\n",
       "      <th></th>\n",
       "      <th>WPID_RANDOM</th>\n",
       "      <th>WP5</th>\n",
       "      <th>Country</th>\n",
       "      <th>WGT</th>\n",
       "      <th>Year</th>\n",
       "      <th>GlobalRegion</th>\n",
       "      <th>country.in.both.waves</th>\n",
       "      <th>CountryIncomeLevel2021</th>\n",
       "      <th>CountryIncomeLevel2019</th>\n",
       "      <th>PROJWT_2021</th>\n",
       "      <th>...</th>\n",
       "      <th>Q21</th>\n",
       "      <th>Q22A</th>\n",
       "      <th>Q22B</th>\n",
       "      <th>Q22C</th>\n",
       "      <th>Q22D</th>\n",
       "      <th>Q22E</th>\n",
       "      <th>resilience_index</th>\n",
       "      <th>Worried.Index</th>\n",
       "      <th>Experienced.Index</th>\n",
       "      <th>worry_exp_gap</th>\n",
       "    </tr>\n",
       "  </thead>\n",
       "  <tbody>\n",
       "    <tr>\n",
       "      <th>0</th>\n",
       "      <td>174262180</td>\n",
       "      <td>1</td>\n",
       "      <td>United States</td>\n",
       "      <td>2.132627</td>\n",
       "      <td>2021</td>\n",
       "      <td>6</td>\n",
       "      <td>1</td>\n",
       "      <td>4</td>\n",
       "      <td></td>\n",
       "      <td>562058.6277</td>\n",
       "      <td>...</td>\n",
       "      <td>1</td>\n",
       "      <td>2</td>\n",
       "      <td>2</td>\n",
       "      <td>2</td>\n",
       "      <td>2</td>\n",
       "      <td>2</td>\n",
       "      <td>0.604166667</td>\n",
       "      <td>0.591526773</td>\n",
       "      <td>-0.004188948</td>\n",
       "      <td>0.595715721</td>\n",
       "    </tr>\n",
       "    <tr>\n",
       "      <th>1</th>\n",
       "      <td>115327451</td>\n",
       "      <td>1</td>\n",
       "      <td>United States</td>\n",
       "      <td>0.620385</td>\n",
       "      <td>2021</td>\n",
       "      <td>6</td>\n",
       "      <td>1</td>\n",
       "      <td>4</td>\n",
       "      <td></td>\n",
       "      <td>163503.9201</td>\n",
       "      <td>...</td>\n",
       "      <td>1</td>\n",
       "      <td>2</td>\n",
       "      <td>2</td>\n",
       "      <td>2</td>\n",
       "      <td>2</td>\n",
       "      <td>2</td>\n",
       "      <td>0.8125</td>\n",
       "      <td>0.302011196</td>\n",
       "      <td>-0.004188948</td>\n",
       "      <td>0.306200143</td>\n",
       "    </tr>\n",
       "    <tr>\n",
       "      <th>2</th>\n",
       "      <td>189972125</td>\n",
       "      <td>1</td>\n",
       "      <td>United States</td>\n",
       "      <td>0.610080</td>\n",
       "      <td>2021</td>\n",
       "      <td>6</td>\n",
       "      <td>1</td>\n",
       "      <td>4</td>\n",
       "      <td></td>\n",
       "      <td>160787.9589</td>\n",
       "      <td>...</td>\n",
       "      <td>1</td>\n",
       "      <td>2</td>\n",
       "      <td>2</td>\n",
       "      <td>2</td>\n",
       "      <td>2</td>\n",
       "      <td>2</td>\n",
       "      <td>0.645833333</td>\n",
       "      <td>0.409201775</td>\n",
       "      <td>-0.004188948</td>\n",
       "      <td>0.413390723</td>\n",
       "    </tr>\n",
       "    <tr>\n",
       "      <th>3</th>\n",
       "      <td>173358289</td>\n",
       "      <td>1</td>\n",
       "      <td>United States</td>\n",
       "      <td>0.490774</td>\n",
       "      <td>2021</td>\n",
       "      <td>6</td>\n",
       "      <td>1</td>\n",
       "      <td>4</td>\n",
       "      <td></td>\n",
       "      <td>129344.4561</td>\n",
       "      <td>...</td>\n",
       "      <td>2</td>\n",
       "      <td>2</td>\n",
       "      <td>2</td>\n",
       "      <td>2</td>\n",
       "      <td>2</td>\n",
       "      <td>2</td>\n",
       "      <td>0.604166667</td>\n",
       "      <td>0.114227334</td>\n",
       "      <td>0.313785914</td>\n",
       "      <td>-0.19955858</td>\n",
       "    </tr>\n",
       "    <tr>\n",
       "      <th>4</th>\n",
       "      <td>183251831</td>\n",
       "      <td>1</td>\n",
       "      <td>United States</td>\n",
       "      <td>1.910021</td>\n",
       "      <td>2021</td>\n",
       "      <td>6</td>\n",
       "      <td>1</td>\n",
       "      <td>4</td>\n",
       "      <td></td>\n",
       "      <td>503390.2659</td>\n",
       "      <td>...</td>\n",
       "      <td>1</td>\n",
       "      <td>2</td>\n",
       "      <td>2</td>\n",
       "      <td>2</td>\n",
       "      <td>2</td>\n",
       "      <td>2</td>\n",
       "      <td>0.895833333</td>\n",
       "      <td>0.228660806</td>\n",
       "      <td>0.441144416</td>\n",
       "      <td>-0.21248361</td>\n",
       "    </tr>\n",
       "  </tbody>\n",
       "</table>\n",
       "<p>5 rows × 63 columns</p>\n",
       "</div>"
      ],
      "text/plain": [
       "   WPID_RANDOM  WP5        Country       WGT  Year  GlobalRegion  \\\n",
       "0    174262180    1  United States  2.132627  2021             6   \n",
       "1    115327451    1  United States  0.620385  2021             6   \n",
       "2    189972125    1  United States  0.610080  2021             6   \n",
       "3    173358289    1  United States  0.490774  2021             6   \n",
       "4    183251831    1  United States  1.910021  2021             6   \n",
       "\n",
       "   country.in.both.waves CountryIncomeLevel2021 CountryIncomeLevel2019  \\\n",
       "0                      1                      4                          \n",
       "1                      1                      4                          \n",
       "2                      1                      4                          \n",
       "3                      1                      4                          \n",
       "4                      1                      4                          \n",
       "\n",
       "   PROJWT_2021  ... Q21  Q22A Q22B  Q22C  Q22D  Q22E resilience_index  \\\n",
       "0  562058.6277  ...   1     2    2     2     2     2      0.604166667   \n",
       "1  163503.9201  ...   1     2    2     2     2     2           0.8125   \n",
       "2  160787.9589  ...   1     2    2     2     2     2      0.645833333   \n",
       "3  129344.4561  ...   2     2    2     2     2     2      0.604166667   \n",
       "4  503390.2659  ...   1     2    2     2     2     2      0.895833333   \n",
       "\n",
       "  Worried.Index  Experienced.Index  worry_exp_gap  \n",
       "0   0.591526773       -0.004188948    0.595715721  \n",
       "1   0.302011196       -0.004188948    0.306200143  \n",
       "2   0.409201775       -0.004188948    0.413390723  \n",
       "3   0.114227334        0.313785914    -0.19955858  \n",
       "4   0.228660806        0.441144416    -0.21248361  \n",
       "\n",
       "[5 rows x 63 columns]"
      ]
     },
     "execution_count": 5,
     "metadata": {},
     "output_type": "execute_result"
    }
   ],
   "source": [
    "survey.head()"
   ]
  },
  {
   "cell_type": "code",
   "execution_count": 6,
   "id": "1bdee9a3",
   "metadata": {
    "scrolled": true
   },
   "outputs": [
    {
     "data": {
      "text/plain": [
       "CountryIncomeLevel2021\n",
       "4    41673\n",
       "2    38115\n",
       "3    37122\n",
       "1     8001\n",
       "9     1000\n",
       "Name: count, dtype: int64"
      ]
     },
     "execution_count": 6,
     "metadata": {},
     "output_type": "execute_result"
    }
   ],
   "source": [
    "survey.CountryIncomeLevel2021.astype(str).value_counts()"
   ]
  },
  {
   "cell_type": "code",
   "execution_count": null,
   "id": "22b80601",
   "metadata": {},
   "outputs": [],
   "source": [
    "#what country has \"not classified\" as the income level? \n",
    "survey[survey['CountryIncomeLevel2021']==9]\n",
    "#answer: Venezuela"
   ]
  },
  {
   "cell_type": "code",
   "execution_count": 7,
   "id": "4b4af20b",
   "metadata": {
    "scrolled": true
   },
   "outputs": [],
   "source": [
    "dictionary = {'1': 'Low income', '2':'Lower-middle income', '3': 'Upper-middle income', '4': 'High income', '9': 'Not classified'}\n"
   ]
  },
  {
   "cell_type": "code",
   "execution_count": 8,
   "id": "acf204bb",
   "metadata": {},
   "outputs": [
    {
     "data": {
      "text/plain": [
       "CountryIncomeLevel2021\n",
       "High income            41673\n",
       "Lower-middle income    38115\n",
       "Upper-middle income    37122\n",
       "Low income              8001\n",
       "Not classified          1000\n",
       "Name: count, dtype: int64"
      ]
     },
     "execution_count": 8,
     "metadata": {},
     "output_type": "execute_result"
    }
   ],
   "source": [
    "survey['CountryIncomeLevel2021'].astype(str).map(dictionary).value_counts()"
   ]
  },
  {
   "cell_type": "code",
   "execution_count": 9,
   "id": "780d4ef7",
   "metadata": {},
   "outputs": [],
   "source": [
    "survey['CountryIncomeLevel2021'] = survey['CountryIncomeLevel2021'].astype(str).map(dictionary)"
   ]
  },
  {
   "cell_type": "code",
   "execution_count": 11,
   "id": "318d2044",
   "metadata": {
    "scrolled": false
   },
   "outputs": [
    {
     "data": {
      "text/plain": [
       "CountryIncomeLevel2021\n",
       "High income            41673\n",
       "Lower-middle income    38115\n",
       "Upper-middle income    37122\n",
       "Low income              8001\n",
       "Not classified          1000\n",
       "Name: count, dtype: int64"
      ]
     },
     "execution_count": 11,
     "metadata": {},
     "output_type": "execute_result"
    }
   ],
   "source": [
    "survey.CountryIncomeLevel2021.value_counts()"
   ]
  },
  {
   "cell_type": "code",
   "execution_count": null,
   "id": "6cdf5400",
   "metadata": {},
   "outputs": [],
   "source": []
  },
  {
   "cell_type": "code",
   "execution_count": null,
   "id": "76787c59",
   "metadata": {},
   "outputs": [],
   "source": []
  },
  {
   "cell_type": "code",
   "execution_count": null,
   "id": "2e9d2e32",
   "metadata": {},
   "outputs": [],
   "source": []
  },
  {
   "cell_type": "code",
   "execution_count": null,
   "id": "4d7b278e",
   "metadata": {},
   "outputs": [],
   "source": []
  },
  {
   "cell_type": "code",
   "execution_count": null,
   "id": "bbd304c4",
   "metadata": {},
   "outputs": [],
   "source": []
  },
  {
   "cell_type": "code",
   "execution_count": null,
   "id": "ae6e6cc7",
   "metadata": {},
   "outputs": [],
   "source": []
  },
  {
   "cell_type": "code",
   "execution_count": null,
   "id": "575da558",
   "metadata": {},
   "outputs": [],
   "source": []
  },
  {
   "cell_type": "markdown",
   "id": "3e91170f",
   "metadata": {},
   "source": [
    "### loading in disaster data set\n"
   ]
  },
  {
   "cell_type": "code",
   "execution_count": null,
   "id": "c3ee0204",
   "metadata": {},
   "outputs": [],
   "source": [
    "disasters = pd.read_csv('../data/disasters.csv')"
   ]
  },
  {
   "cell_type": "code",
   "execution_count": null,
   "id": "ac3124d8",
   "metadata": {},
   "outputs": [],
   "source": [
    "disasters.head()"
   ]
  },
  {
   "cell_type": "code",
   "execution_count": null,
   "id": "40085459",
   "metadata": {},
   "outputs": [],
   "source": [
    "disasters.info()"
   ]
  },
  {
   "cell_type": "code",
   "execution_count": null,
   "id": "40d516d1",
   "metadata": {},
   "outputs": [],
   "source": []
  }
 ],
 "metadata": {
  "kernelspec": {
   "display_name": "Python 3 (ipykernel)",
   "language": "python",
   "name": "python3"
  },
  "language_info": {
   "codemirror_mode": {
    "name": "ipython",
    "version": 3
   },
   "file_extension": ".py",
   "mimetype": "text/x-python",
   "name": "python",
   "nbconvert_exporter": "python",
   "pygments_lexer": "ipython3",
   "version": "3.11.5"
  }
 },
 "nbformat": 4,
 "nbformat_minor": 5
}
